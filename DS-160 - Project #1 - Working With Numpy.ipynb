{
 "cells": [
  {
   "cell_type": "markdown",
   "id": "449ad92e",
   "metadata": {},
   "source": [
    "# CS-160-02 - Project #1 - Working With Numpy"
   ]
  },
  {
   "cell_type": "markdown",
   "id": "ed4a8b41",
   "metadata": {},
   "source": [
    "## Gracie Bayer - January 26, 2021"
   ]
  },
  {
   "cell_type": "code",
   "execution_count": 2,
   "id": "c414bb4c",
   "metadata": {},
   "outputs": [
    {
     "name": "stdout",
     "output_type": "stream",
     "text": [
      "1.20.1\n"
     ]
    }
   ],
   "source": [
    "import numpy as np\n",
    "print(np.__version__)"
   ]
  },
  {
   "cell_type": "markdown",
   "id": "57002ec7",
   "metadata": {},
   "source": [
    "### `a. 2-by-2 NumPy array with elements 10, 20, 30, 40`"
   ]
  },
  {
   "cell_type": "code",
   "execution_count": 3,
   "id": "986cff5e",
   "metadata": {},
   "outputs": [
    {
     "name": "stdout",
     "output_type": "stream",
     "text": [
      "[[10 20]\n",
      " [30 40]]\n"
     ]
    }
   ],
   "source": [
    "arr1=np.array([[10,20],[30,40]])\n",
    "print(arr1)"
   ]
  },
  {
   "cell_type": "markdown",
   "id": "2d61d046",
   "metadata": {},
   "source": [
    "#### i. Square every element of the array"
   ]
  },
  {
   "cell_type": "code",
   "execution_count": 4,
   "id": "9bced176",
   "metadata": {},
   "outputs": [
    {
     "data": {
      "text/plain": [
       "array([[ 100,  400],\n",
       "       [ 900, 1600]])"
      ]
     },
     "execution_count": 4,
     "metadata": {},
     "output_type": "execute_result"
    }
   ],
   "source": [
    "np.square(arr1)"
   ]
  },
  {
   "cell_type": "markdown",
   "id": "cb999d8e",
   "metadata": {},
   "source": [
    "#### ii. Add 100 to every element of the array"
   ]
  },
  {
   "cell_type": "code",
   "execution_count": 5,
   "id": "d9e0b60c",
   "metadata": {},
   "outputs": [
    {
     "data": {
      "text/plain": [
       "array([[110, 120],\n",
       "       [130, 140]])"
      ]
     },
     "execution_count": 5,
     "metadata": {},
     "output_type": "execute_result"
    }
   ],
   "source": [
    "np.add(arr1,100)"
   ]
  },
  {
   "cell_type": "markdown",
   "id": "c81d7ada",
   "metadata": {},
   "source": [
    "#### iii. Multiply every element of the array by 5"
   ]
  },
  {
   "cell_type": "code",
   "execution_count": 6,
   "id": "980f9f4a",
   "metadata": {},
   "outputs": [
    {
     "data": {
      "text/plain": [
       "array([[ 50, 100],\n",
       "       [150, 200]])"
      ]
     },
     "execution_count": 6,
     "metadata": {},
     "output_type": "execute_result"
    }
   ],
   "source": [
    "np.multiply(arr1,5)"
   ]
  },
  {
   "cell_type": "markdown",
   "id": "d88f8d79",
   "metadata": {},
   "source": [
    "#### iv. Calculate the square root of each element in the array"
   ]
  },
  {
   "cell_type": "code",
   "execution_count": 7,
   "id": "733fc45d",
   "metadata": {},
   "outputs": [
    {
     "data": {
      "text/plain": [
       "array([[3.16227766, 4.47213595],\n",
       "       [5.47722558, 6.32455532]])"
      ]
     },
     "execution_count": 7,
     "metadata": {},
     "output_type": "execute_result"
    }
   ],
   "source": [
    "np.sqrt(arr1)"
   ]
  },
  {
   "cell_type": "markdown",
   "id": "319b5293",
   "metadata": {},
   "source": [
    "### `b. 3-by-3 array containing integers from 3 to 27 in multiples of 3; 3-by-3 array with 9 elements evenly spaced between 10 and 20; multiply these arrays together`"
   ]
  },
  {
   "cell_type": "code",
   "execution_count": 8,
   "id": "5977d8ef",
   "metadata": {},
   "outputs": [
    {
     "name": "stdout",
     "output_type": "stream",
     "text": [
      "[[ 3  6  9]\n",
      " [12 15 18]\n",
      " [21 24 27]]\n"
     ]
    }
   ],
   "source": [
    "arr2=np.array(range(3,28,3)).reshape(3,3)\n",
    "print(arr2)"
   ]
  },
  {
   "cell_type": "code",
   "execution_count": 53,
   "id": "64340a0c",
   "metadata": {},
   "outputs": [
    {
     "name": "stdout",
     "output_type": "stream",
     "text": [
      "[[10.   11.25 12.5 ]\n",
      " [13.75 15.   16.25]\n",
      " [17.5  18.75 20.  ]]\n"
     ]
    }
   ],
   "source": [
    "arr3=np.linspace(10,20,9).reshape(3,3)\n",
    "print(arr3)"
   ]
  },
  {
   "cell_type": "code",
   "execution_count": 54,
   "id": "51088251",
   "metadata": {},
   "outputs": [
    {
     "data": {
      "text/plain": [
       "array([[ 30. ,  67.5, 112.5],\n",
       "       [165. , 225. , 292.5],\n",
       "       [367.5, 450. , 540. ]])"
      ]
     },
     "execution_count": 54,
     "metadata": {},
     "output_type": "execute_result"
    }
   ],
   "source": [
    "np.multiply(arr2,arr3)"
   ]
  },
  {
   "cell_type": "markdown",
   "id": "ffa139b8",
   "metadata": {},
   "source": [
    "### `c. 5-by-5 NumPy array; calculate the mean of each column of data`"
   ]
  },
  {
   "cell_type": "code",
   "execution_count": 35,
   "id": "216487f2",
   "metadata": {},
   "outputs": [],
   "source": [
    "process1=np.load('process1.npy')"
   ]
  },
  {
   "cell_type": "code",
   "execution_count": 36,
   "id": "693dd67f",
   "metadata": {},
   "outputs": [
    {
     "data": {
      "text/plain": [
       "array([[52, 12, 81,  0, 58]], dtype=int32)"
      ]
     },
     "execution_count": 36,
     "metadata": {},
     "output_type": "execute_result"
    }
   ],
   "source": [
    "process1"
   ]
  },
  {
   "cell_type": "code",
   "execution_count": 40,
   "id": "405806ce",
   "metadata": {},
   "outputs": [
    {
     "data": {
      "text/plain": [
       "40.6"
      ]
     },
     "execution_count": 40,
     "metadata": {},
     "output_type": "execute_result"
    }
   ],
   "source": [
    "process1.mean()"
   ]
  },
  {
   "cell_type": "code",
   "execution_count": 41,
   "id": "aecc793c",
   "metadata": {},
   "outputs": [],
   "source": [
    "process2=np.load('process2.npy')"
   ]
  },
  {
   "cell_type": "code",
   "execution_count": 42,
   "id": "8cab2e64",
   "metadata": {},
   "outputs": [
    {
     "data": {
      "text/plain": [
       "array([[96,  4, 61, 16, 43]], dtype=int32)"
      ]
     },
     "execution_count": 42,
     "metadata": {},
     "output_type": "execute_result"
    }
   ],
   "source": [
    "process2"
   ]
  },
  {
   "cell_type": "code",
   "execution_count": 43,
   "id": "36b0bf0f",
   "metadata": {},
   "outputs": [
    {
     "data": {
      "text/plain": [
       "44.0"
      ]
     },
     "execution_count": 43,
     "metadata": {},
     "output_type": "execute_result"
    }
   ],
   "source": [
    "process2.mean()"
   ]
  },
  {
   "cell_type": "code",
   "execution_count": 44,
   "id": "849b1965",
   "metadata": {},
   "outputs": [],
   "source": [
    "process3=np.load('process3.npy')"
   ]
  },
  {
   "cell_type": "code",
   "execution_count": 45,
   "id": "209169f8",
   "metadata": {},
   "outputs": [
    {
     "data": {
      "text/plain": [
       "array([[38, 96, 45, 17, 58]], dtype=int32)"
      ]
     },
     "execution_count": 45,
     "metadata": {},
     "output_type": "execute_result"
    }
   ],
   "source": [
    "process3"
   ]
  },
  {
   "cell_type": "code",
   "execution_count": 46,
   "id": "ecc60fbc",
   "metadata": {},
   "outputs": [
    {
     "data": {
      "text/plain": [
       "50.8"
      ]
     },
     "execution_count": 46,
     "metadata": {},
     "output_type": "execute_result"
    }
   ],
   "source": [
    "process3.mean()"
   ]
  },
  {
   "cell_type": "code",
   "execution_count": 47,
   "id": "81a77386",
   "metadata": {},
   "outputs": [],
   "source": [
    "process4=np.load('process4.npy')"
   ]
  },
  {
   "cell_type": "code",
   "execution_count": 48,
   "id": "e00cf2db",
   "metadata": {},
   "outputs": [
    {
     "data": {
      "text/plain": [
       "array([[97, 21, 22, 25,  6]], dtype=int32)"
      ]
     },
     "execution_count": 48,
     "metadata": {},
     "output_type": "execute_result"
    }
   ],
   "source": [
    "process4"
   ]
  },
  {
   "cell_type": "code",
   "execution_count": 49,
   "id": "1ab7e780",
   "metadata": {},
   "outputs": [
    {
     "data": {
      "text/plain": [
       "34.2"
      ]
     },
     "execution_count": 49,
     "metadata": {},
     "output_type": "execute_result"
    }
   ],
   "source": [
    "process4.mean()"
   ]
  },
  {
   "cell_type": "code",
   "execution_count": 50,
   "id": "c8fb9bee",
   "metadata": {},
   "outputs": [],
   "source": [
    "process5=np.load('process5.npy')"
   ]
  },
  {
   "cell_type": "code",
   "execution_count": 51,
   "id": "1f980ede",
   "metadata": {},
   "outputs": [
    {
     "data": {
      "text/plain": [
       "array([[77,  6, 19,  2, 74]], dtype=int32)"
      ]
     },
     "execution_count": 51,
     "metadata": {},
     "output_type": "execute_result"
    }
   ],
   "source": [
    "process5"
   ]
  },
  {
   "cell_type": "code",
   "execution_count": 52,
   "id": "e8b644e6",
   "metadata": {},
   "outputs": [
    {
     "data": {
      "text/plain": [
       "35.6"
      ]
     },
     "execution_count": 52,
     "metadata": {},
     "output_type": "execute_result"
    }
   ],
   "source": [
    "process5.mean()"
   ]
  }
 ],
 "metadata": {
  "kernelspec": {
   "display_name": "Python 3",
   "language": "python",
   "name": "python3"
  },
  "language_info": {
   "codemirror_mode": {
    "name": "ipython",
    "version": 3
   },
   "file_extension": ".py",
   "mimetype": "text/x-python",
   "name": "python",
   "nbconvert_exporter": "python",
   "pygments_lexer": "ipython3",
   "version": "3.8.8"
  }
 },
 "nbformat": 4,
 "nbformat_minor": 5
}
